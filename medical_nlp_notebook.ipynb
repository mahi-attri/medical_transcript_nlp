{
 "cells": [
  {
   "cell_type": "markdown",
   "metadata": {},
   "source": [
    "# Medical NLP Pipeline - Physician Notetaker\n",
    "\n",
    "This notebook implements a comprehensive NLP system for:\n",
    "1. **Medical Entity Recognition (NER)** - Extract symptoms, treatments, diagnosis, and prognosis\n",
    "2. **Text Summarization** - Generate structured medical reports\n",
    "3. **Keyword Extraction** - Identify important medical phrases\n",
    "4. **Sentiment Analysis** - Detect patient emotional state\n",
    "5. **Intent Detection** - Classify patient communication intent\n",
    "6. **SOAP Note Generation** - Create structured clinical notes"
   ]
  },
  {
   "cell_type": "markdown",
   "metadata": {},
   "source": [
    "## Setup and Installation"
   ]
  },
  {
   "cell_type": "code",
   "execution_count": 43,
   "metadata": {},
   "outputs": [
    {
     "name": "stderr",
     "output_type": "stream",
     "text": [
      "\n",
      "[notice] A new release of pip is available: 25.1.1 -> 25.3\n",
      "[notice] To update, run: python.exe -m pip install --upgrade pip\n"
     ]
    },
    {
     "name": "stdout",
     "output_type": "stream",
     "text": [
      "\u001b[38;5;2m[+] Download and installation successful\u001b[0m\n",
      "You can now load the package via spacy.load('en_core_web_sm')\n"
     ]
    },
    {
     "name": "stderr",
     "output_type": "stream",
     "text": [
      "\n",
      "[notice] A new release of pip is available: 25.1.1 -> 25.3\n",
      "[notice] To update, run: python.exe -m pip install --upgrade pip\n"
     ]
    }
   ],
   "source": [
    "# Install required packages\n",
    "!pip install spacy transformers torch sentence-transformers scikit-learn nltk pandas matplotlib seaborn -q\n",
    "!python -m spacy download en_core_web_sm -q"
   ]
  },
  {
   "cell_type": "code",
   "execution_count": 44,
   "metadata": {},
   "outputs": [
    {
     "name": "stdout",
     "output_type": "stream",
     "text": [
      "All libraries imported successfully.\n"
     ]
    }
   ],
   "source": [
    "import json\n",
    "import re\n",
    "from typing import Dict, List, Tuple\n",
    "import warnings\n",
    "warnings.filterwarnings('ignore')\n",
    "\n",
    "import spacy\n",
    "from transformers import pipeline, AutoTokenizer, AutoModelForSequenceClassification\n",
    "import torch\n",
    "from collections import defaultdict\n",
    "import nltk\n",
    "from nltk.tokenize import sent_tokenize\n",
    "import pandas as pd\n",
    "import matplotlib.pyplot as plt\n",
    "import seaborn as sns\n",
    "\n",
    "# Download NLTK data\n",
    "nltk.download('punkt', quiet=True)\n",
    "\n",
    "print(\"All libraries imported successfully.\")"
   ]
  },
  {
   "cell_type": "markdown",
   "metadata": {},
   "source": [
    "## Sample Medical Transcript"
   ]
  },
  {
   "cell_type": "code",
   "execution_count": 45,
   "metadata": {},
   "outputs": [
    {
     "name": "stdout",
     "output_type": "stream",
     "text": [
      "Transcript loaded. Length: 531 words\n"
     ]
    }
   ],
   "source": [
    "transcript = \"\"\"\n",
    "Physician: Good morning, Ms. Jones. How are you feeling today?\n",
    "\n",
    "Patient: Good morning, doctor. I'm doing better, but I still have some discomfort now and then.\n",
    "\n",
    "Physician: I understand you were in a car accident last September. Can you walk me through what happened?\n",
    "\n",
    "Patient: Yes, it was on September 1st, around 12:30 in the afternoon. I was driving from Cheadle Hulme to Manchester when I had to stop in traffic. Out of nowhere, another car hit me from behind, which pushed my car into the one in front.\n",
    "\n",
    "Physician: That sounds like a strong impact. Were you wearing your seatbelt?\n",
    "\n",
    "Patient: Yes, I always do.\n",
    "\n",
    "Physician: What did you feel immediately after the accident?\n",
    "\n",
    "Patient: At first, I was just shocked. But then I realized I had hit my head on the steering wheel, and I could feel pain in my neck and back almost right away.\n",
    "\n",
    "Physician: Did you seek medical attention at that time?\n",
    "\n",
    "Patient: Yes, I went to Moss Bank Accident and Emergency. They checked me over and said it was a whiplash injury, but they didn't do any X-rays. They just gave me some advice and sent me home.\n",
    "\n",
    "Physician: How did things progress after that?\n",
    "\n",
    "Patient: The first four weeks were rough. My neck and back pain were really bad—I had trouble sleeping and had to take painkillers regularly. It started improving after that, but I had to go through ten sessions of physiotherapy to help with the stiffness and discomfort.\n",
    "\n",
    "Physician: That makes sense. Are you still experiencing pain now?\n",
    "\n",
    "Patient: It's not constant, but I do get occasional backaches. It's nothing like before, though.\n",
    "\n",
    "Physician: That's good to hear. Have you noticed any other effects, like anxiety while driving or difficulty concentrating?\n",
    "\n",
    "Patient: No, nothing like that. I don't feel nervous driving, and I haven't had any emotional issues from the accident.\n",
    "\n",
    "Physician: And how has this impacted your daily life? Work, hobbies, anything like that?\n",
    "\n",
    "Patient: I had to take a week off work, but after that, I was back to my usual routine. It hasn't really stopped me from doing anything.\n",
    "\n",
    "Physician: That's encouraging. Let's go ahead and do a physical examination to check your mobility and any lingering pain.\n",
    "\n",
    "[Physical Examination Conducted]\n",
    "\n",
    "Physician: Everything looks good. Your neck and back have a full range of movement, and there's no tenderness or signs of lasting damage. Your muscles and spine seem to be in good condition.\n",
    "\n",
    "Patient: That's a relief!\n",
    "\n",
    "Physician: Yes, your recovery so far has been quite positive. Given your progress, I'd expect you to make a full recovery within six months of the accident. There are no signs of long-term damage or degeneration.\n",
    "\n",
    "Patient: That's great to hear. So, I don't need to worry about this affecting me in the future?\n",
    "\n",
    "Physician: That's right. I don't foresee any long-term impact on your work or daily life. If anything changes or you experience worsening symptoms, you can always come back for a follow-up. But at this point, you're on track for a full recovery.\n",
    "\n",
    "Patient: Thank you, doctor. I appreciate it.\n",
    "\n",
    "Physician: You're very welcome, Ms. Jones. Take care, and don't hesitate to reach out if you need anything.\n",
    "\"\"\"\n",
    "\n",
    "print(\"Transcript loaded. Length:\", len(transcript.split()), \"words\")"
   ]
  },
  {
   "cell_type": "markdown",
   "metadata": {},
   "source": [
    "## 1. Named Entity Recognition (NER)\n",
    "\n",
    "Extract medical entities: Symptoms, Treatment, Diagnosis, Prognosis"
   ]
  },
  {
   "cell_type": "code",
   "execution_count": 46,
   "metadata": {},
   "outputs": [
    {
     "name": "stdout",
     "output_type": "stream",
     "text": [
      "\n",
      "MEDICAL ENTITIES EXTRACTED:\n",
      "\n",
      "{\n",
      "  \"Symptoms\": [\n",
      "    \"some discomfort\",\n",
      "    \"pain\",\n",
      "    \"back pain\",\n",
      "    \"painkillers\",\n",
      "    \"the stiffness\",\n",
      "    \"occasional backaches\",\n",
      "    \"anxiety\",\n",
      "    \"any lingering pain\",\n",
      "    \"no tenderness\"\n",
      "  ],\n",
      "  \"Treatment\": [\n",
      "    \"painkillers\",\n",
      "    \"physiotherapy\",\n",
      "    \"ten sessions\",\n",
      "    \"a physical examination\"\n",
      "  ],\n",
      "  \"Diagnosis\": [\n",
      "    \"a whiplash injury\"\n",
      "  ],\n",
      "  \"Prognosis\": [\n",
      "    \"I'm doing better, but I still have some discomfort now and then.\",\n",
      "    \"Physician: Yes, your recovery so far has been quite positive.\",\n",
      "    \"Given your progress, I'd expect you to make a full recovery within six months of the accident.\",\n",
      "    \"But at this point, you're on track for a full recovery.\"\n",
      "  ],\n",
      "  \"Dates\": [\n",
      "    \"today\",\n",
      "    \"last September\",\n",
      "    \"September 1st\",\n",
      "    \"The first four weeks\",\n",
      "    \"daily\",\n",
      "    \"a week\",\n",
      "    \"six months\"\n",
      "  ],\n",
      "  \"Locations\": []\n",
      "}\n"
     ]
    }
   ],
   "source": [
    "# Load spaCy model\n",
    "nlp = spacy.load(\"en_core_web_sm\")\n",
    "\n",
    "def extract_medical_entities(transcript: str) -> Dict[str, List[str]]:\n",
    "    \"\"\"Extract medical entities using rule-based NER\"\"\"\n",
    "    doc = nlp(transcript)\n",
    "    \n",
    "    entities = {\n",
    "        \"Symptoms\": [],\n",
    "        \"Treatment\": [],\n",
    "        \"Diagnosis\": [],\n",
    "        \"Prognosis\": [],\n",
    "        \"Dates\": [],\n",
    "        \"Locations\": []\n",
    "    }\n",
    "    \n",
    "    # Define medical keywords\n",
    "    symptom_keywords = [\"pain\", \"hurt\", \"ache\", \"discomfort\", \"soreness\", \"stiffness\", \n",
    "                        \"swelling\", \"tenderness\", \"numbness\", \"anxiety\"]\n",
    "    treatment_keywords = [\"therapy\", \"physiotherapy\", \"treatment\", \"painkiller\", \n",
    "                          \"analgesic\", \"session\", \"x-ray\", \"examination\"]\n",
    "    diagnosis_keywords = [\"injury\", \"whiplash\", \"fracture\", \"sprain\", \"strain\", \"trauma\"]\n",
    "    prognosis_keywords = [\"recovery\", \"prognosis\", \"improve\", \"heal\", \"better\", \"full recovery\"]\n",
    "    \n",
    "    sentences = sent_tokenize(transcript)\n",
    "    \n",
    "    for sentence in sentences:\n",
    "        sentence_lower = sentence.lower()\n",
    "        sent_doc = nlp(sentence)\n",
    "        \n",
    "        # Extract entities by category\n",
    "        for keyword in symptom_keywords:\n",
    "            if keyword in sentence_lower:\n",
    "                for chunk in sent_doc.noun_chunks:\n",
    "                    if keyword in chunk.text.lower():\n",
    "                        symptom = chunk.text.strip()\n",
    "                        if symptom and symptom not in entities[\"Symptoms\"]:\n",
    "                            entities[\"Symptoms\"].append(symptom)\n",
    "        \n",
    "        for keyword in treatment_keywords:\n",
    "            if keyword in sentence_lower:\n",
    "                for chunk in sent_doc.noun_chunks:\n",
    "                    if keyword in chunk.text.lower():\n",
    "                        treatment = chunk.text.strip()\n",
    "                        if treatment and treatment not in entities[\"Treatment\"]:\n",
    "                            entities[\"Treatment\"].append(treatment)\n",
    "        \n",
    "        for keyword in diagnosis_keywords:\n",
    "            if keyword in sentence_lower:\n",
    "                for chunk in sent_doc.noun_chunks:\n",
    "                    if keyword in chunk.text.lower():\n",
    "                        diagnosis = chunk.text.strip()\n",
    "                        if diagnosis and diagnosis not in entities[\"Diagnosis\"]:\n",
    "                            entities[\"Diagnosis\"].append(diagnosis)\n",
    "        \n",
    "        for keyword in prognosis_keywords:\n",
    "            if keyword in sentence_lower:\n",
    "                prognosis = sentence.strip()\n",
    "                if prognosis not in entities[\"Prognosis\"]:\n",
    "                    entities[\"Prognosis\"].append(prognosis)\n",
    "        \n",
    "        # Extract dates and locations\n",
    "        for ent in sent_doc.ents:\n",
    "            if ent.label_ == \"DATE\" and ent.text not in entities[\"Dates\"]:\n",
    "                entities[\"Dates\"].append(ent.text)\n",
    "            elif ent.label_ in [\"GPE\", \"LOC\"] and ent.text not in entities[\"Locations\"]:\n",
    "                entities[\"Locations\"].append(ent.text)\n",
    "    \n",
    "    return entities\n",
    "\n",
    "# Extract entities\n",
    "entities = extract_medical_entities(transcript)\n",
    "print(\"\\nMEDICAL ENTITIES EXTRACTED:\\n\")\n",
    "print(json.dumps(entities, indent=2))"
   ]
  },
  {
   "cell_type": "markdown",
   "metadata": {},
   "source": [
    "## 2. Keyword Extraction"
   ]
  },
  {
   "cell_type": "code",
   "execution_count": 47,
   "metadata": {},
   "outputs": [
    {
     "name": "stdout",
     "output_type": "stream",
     "text": [
      "\n",
      "IMPORTANT MEDICAL KEYWORDS:\n",
      "\n",
      "1. the accident\n",
      "2. my neck\n",
      "3. a full recovery\n",
      "4. good morning\n",
      "5. ms. jones\n",
      "6. some discomfort\n",
      "7. a car accident\n",
      "8. september 1st\n",
      "9. the afternoon\n",
      "10. cheadle hulme\n"
     ]
    }
   ],
   "source": [
    "def extract_keywords(transcript: str, top_n: int = 10) -> List[str]:\n",
    "    \"\"\"Extract important medical keywords\"\"\"\n",
    "    doc = nlp(transcript)\n",
    "    \n",
    "    medical_terms = []\n",
    "    for chunk in doc.noun_chunks:\n",
    "        if len(chunk.text.split()) >= 2:\n",
    "            medical_terms.append(chunk.text.lower())\n",
    "    \n",
    "    # Count frequency\n",
    "    keyword_freq = defaultdict(int)\n",
    "    for term in medical_terms:\n",
    "        keyword_freq[term] += 1\n",
    "    \n",
    "    # Sort and return top N\n",
    "    sorted_keywords = sorted(keyword_freq.items(), key=lambda x: x[1], reverse=True)\n",
    "    return [kw[0] for kw in sorted_keywords[:top_n]]\n",
    "\n",
    "keywords = extract_keywords(transcript)\n",
    "print(\"\\nIMPORTANT MEDICAL KEYWORDS:\\n\")\n",
    "for i, keyword in enumerate(keywords, 1):\n",
    "    print(f\"{i}. {keyword}\")"
   ]
  },
  {
   "cell_type": "markdown",
   "metadata": {},
   "source": [
    "## 3. Text Summarization - Structured Medical Report"
   ]
  },
  {
   "cell_type": "code",
   "execution_count": 48,
   "metadata": {},
   "outputs": [
    {
     "name": "stdout",
     "output_type": "stream",
     "text": [
      "\n",
      "STRUCTURED MEDICAL SUMMARY:\n",
      "\n",
      "{\n",
      "  \"Patient_Name\": \"Jones\",\n",
      "  \"Symptoms\": [\n",
      "    \"some discomfort\",\n",
      "    \"pain\",\n",
      "    \"back pain\",\n",
      "    \"painkillers\",\n",
      "    \"the stiffness\"\n",
      "  ],\n",
      "  \"Diagnosis\": \"a whiplash injury\",\n",
      "  \"Treatment\": [\n",
      "    \"painkillers\",\n",
      "    \"physiotherapy\",\n",
      "    \"ten sessions\"\n",
      "  ],\n",
      "  \"Current_Status\": \"Improving\",\n",
      "  \"Prognosis\": \"Given your progress, I'd expect you to make a full recovery within six months of the accident.\"\n",
      "}\n"
     ]
    }
   ],
   "source": [
    "def generate_summary(transcript: str, entities: Dict) -> Dict:\n",
    "    \"\"\"Generate structured medical summary\"\"\"\n",
    "    \n",
    "    # Extract patient name\n",
    "    match = re.search(r\"Ms\\.\\s+([A-Z][a-z]+)\", transcript)\n",
    "    patient_name = match.group(1) if match else \"Unknown\"\n",
    "    \n",
    "    # Extract current status\n",
    "    current_status = \"Improving\"\n",
    "    sentences = sent_tokenize(transcript)\n",
    "    for sentence in sentences:\n",
    "        if \"occasional\" in sentence.lower() and \"pain\" in sentence.lower():\n",
    "            current_status = sentence.strip()\n",
    "            break\n",
    "    \n",
    "    # Extract prognosis\n",
    "    prognosis = \"Good\"\n",
    "    for prog in entities[\"Prognosis\"]:\n",
    "        if \"full recovery\" in prog.lower():\n",
    "            prognosis = prog\n",
    "            break\n",
    "    \n",
    "    summary = {\n",
    "        \"Patient_Name\": patient_name,\n",
    "        \"Symptoms\": entities[\"Symptoms\"][:5] if entities[\"Symptoms\"] else [\"Not specified\"],\n",
    "        \"Diagnosis\": entities[\"Diagnosis\"][0] if entities[\"Diagnosis\"] else \"Not specified\",\n",
    "        \"Treatment\": entities[\"Treatment\"][:3] if entities[\"Treatment\"] else [\"Not specified\"],\n",
    "        \"Current_Status\": current_status,\n",
    "        \"Prognosis\": prognosis\n",
    "    }\n",
    "    \n",
    "    return summary\n",
    "\n",
    "summary = generate_summary(transcript, entities)\n",
    "print(\"\\nSTRUCTURED MEDICAL SUMMARY:\\n\")\n",
    "print(json.dumps(summary, indent=2))"
   ]
  },
  {
   "cell_type": "markdown",
   "metadata": {},
   "source": [
    "**Questions:**\n",
    "\n",
    "- How would you handle **ambiguous or missing medical data** in the transcript?\n",
    "\n",
    "    Answer:\n",
    "    \n",
    "    • Assign structured placeholders like unknown or not mentioned and use confidence scores to avoid assumptions.\n",
    "    \n",
    "    • Track exact evidence text and apply negation and uncertainty detection so unclear statements stay flagged.\n",
    "    \n",
    "    • Use ontology mapping such as UMLS or SNOMED with top-k candidates and route low-confidence cases to human review.\n",
    "\n",
    "\n",
    "\n",
    "- What **pre-trained NLP models** would you use for medical summarization?\n",
    "\n",
    "    Answer:\n",
    "\n",
    "    • ClinicalBERT or PubMedBERT for medical concept understanding and entity extraction.\n",
    "    \n",
    "    • LED, PEGASUS or BART adapted for long clinical text summarization.\n",
    "    \n",
    "    • Train further on clinical note datasets such as MIMIC and dialogue data like MedDialog."
   ]
  },
  {
   "cell_type": "markdown",
   "metadata": {},
   "source": [
    "## 4. Sentiment Analysis\n",
    "\n",
    "Analyze patient emotional state using transformer models"
   ]
  },
  {
   "cell_type": "code",
   "execution_count": 49,
   "metadata": {},
   "outputs": [
    {
     "name": "stdout",
     "output_type": "stream",
     "text": [
      "Loading sentiment analysis model...\n"
     ]
    },
    {
     "name": "stderr",
     "output_type": "stream",
     "text": [
      "Device set to use cpu\n"
     ]
    },
    {
     "name": "stdout",
     "output_type": "stream",
     "text": [
      "Model loaded\n",
      "\n",
      "SENTIMENT ANALYSIS:\n",
      "\n",
      "Text: \"I'm doing better, but I still have some discomfort now and t...\"\n",
      "Sentiment: Anxious (Confidence: 0.996)\n",
      "\n",
      "Text: \"The first four weeks were rough. My neck and back pain were ...\"\n",
      "Sentiment: Anxious (Confidence: 1.0)\n",
      "\n",
      "Text: \"I'm a bit worried about my back pain, but I hope it gets bet...\"\n",
      "Sentiment: Reassured (Confidence: 0.973)\n",
      "\n",
      "Text: \"That's great to hear. So, I don't need to worry about this a...\"\n",
      "Sentiment: Reassured (Confidence: 1.0)\n",
      "\n"
     ]
    }
   ],
   "source": [
    "# Load sentiment analysis model\n",
    "print(\"Loading sentiment analysis model...\")\n",
    "sentiment_analyzer = pipeline(\n",
    "    \"sentiment-analysis\",\n",
    "    model=\"distilbert-base-uncased-finetuned-sst-2-english\"\n",
    ")\n",
    "print(\"Model loaded\")\n",
    "\n",
    "def analyze_sentiment(text: str) -> Dict:\n",
    "    \"\"\"Analyze sentiment of patient dialogue\"\"\"\n",
    "    result = sentiment_analyzer(text[:512])[0]\n",
    "    \n",
    "    label = result['label']\n",
    "    score = result['score']\n",
    "    \n",
    "    # Map to medical context\n",
    "    if label == \"NEGATIVE\" and score > 0.7:\n",
    "        sentiment = \"Anxious\"\n",
    "    elif label == \"POSITIVE\" and score > 0.7:\n",
    "        sentiment = \"Reassured\"\n",
    "    else:\n",
    "        sentiment = \"Neutral\"\n",
    "    \n",
    "    return {\n",
    "        \"Sentiment\": sentiment,\n",
    "        \"Confidence\": round(score, 3)\n",
    "    }\n",
    "\n",
    "# Test with sample patient dialogues\n",
    "patient_dialogues = [\n",
    "    \"I'm doing better, but I still have some discomfort now and then.\",\n",
    "    \"The first four weeks were rough. My neck and back pain were really bad.\",\n",
    "    \"I'm a bit worried about my back pain, but I hope it gets better soon.\",\n",
    "    \"That's great to hear. So, I don't need to worry about this affecting me in the future?\"\n",
    "]\n",
    "\n",
    "print(\"\\nSENTIMENT ANALYSIS:\\n\")\n",
    "sentiment_results = []\n",
    "for dialogue in patient_dialogues:\n",
    "    result = analyze_sentiment(dialogue)\n",
    "    sentiment_results.append(result)\n",
    "    print(f\"Text: \\\"{dialogue[:60]}...\\\"\")\n",
    "    print(f\"Sentiment: {result['Sentiment']} (Confidence: {result['Confidence']})\\n\")"
   ]
  },
  {
   "cell_type": "markdown",
   "metadata": {},
   "source": [
    "## 5. Intent Detection\n",
    "\n",
    "Classify patient communication intent using zero-shot classification"
   ]
  },
  {
   "cell_type": "code",
   "execution_count": 50,
   "metadata": {},
   "outputs": [
    {
     "name": "stdout",
     "output_type": "stream",
     "text": [
      "Loading intent detection model...\n"
     ]
    },
    {
     "name": "stderr",
     "output_type": "stream",
     "text": [
      "Device set to use cpu\n"
     ]
    },
    {
     "name": "stdout",
     "output_type": "stream",
     "text": [
      "Model loaded\n",
      "\n",
      "INTENT DETECTION:\n",
      "\n",
      "Text: \"I'm doing better, but I still have some discomfort now and t...\"\n",
      "Intent: Reporting symptoms (Confidence: 0.497)\n",
      "\n",
      "Text: \"The first four weeks were rough. My neck and back pain were ...\"\n",
      "Intent: Reporting symptoms (Confidence: 0.45)\n",
      "\n",
      "Text: \"I'm a bit worried about my back pain, but I hope it gets bet...\"\n",
      "Intent: Expressing concern (Confidence: 0.647)\n",
      "\n",
      "Text: \"That's great to hear. So, I don't need to worry about this a...\"\n",
      "Intent: Seeking reassurance (Confidence: 0.454)\n",
      "\n"
     ]
    }
   ],
   "source": [
    "# Load intent classification model\n",
    "print(\"Loading intent detection model...\")\n",
    "intent_classifier = pipeline(\n",
    "    \"zero-shot-classification\",\n",
    "    model=\"facebook/bart-large-mnli\"\n",
    ")\n",
    "print(\"Model loaded\")\n",
    "\n",
    "def detect_intent(text: str) -> Dict:\n",
    "    \"\"\"Detect patient intent\"\"\"\n",
    "    candidate_labels = [\n",
    "        \"Seeking reassurance\",\n",
    "        \"Reporting symptoms\",\n",
    "        \"Expressing concern\",\n",
    "        \"Asking questions\",\n",
    "        \"Providing information\"\n",
    "    ]\n",
    "    \n",
    "    result = intent_classifier(text[:512], candidate_labels, multi_label=False)\n",
    "    \n",
    "    return {\n",
    "        \"Intent\": result['labels'][0],\n",
    "        \"Confidence\": round(result['scores'][0], 3)\n",
    "    }\n",
    "\n",
    "print(\"\\nINTENT DETECTION:\\n\")\n",
    "for dialogue in patient_dialogues:\n",
    "    result = detect_intent(dialogue)\n",
    "    print(f\"Text: \\\"{dialogue[:60]}...\\\"\")\n",
    "    print(f\"Intent: {result['Intent']} (Confidence: {result['Confidence']})\\n\")"
   ]
  },
  {
   "cell_type": "markdown",
   "metadata": {},
   "source": [
    "**Questions:**\n",
    "\n",
    "- How would you fine-tune **BERT** for medical sentiment detection?\n",
    "  \n",
    "    Answer:\n",
    "    \n",
    "    • Start from a clinical domain BERT and add a three-class classifier for anxious, neutral, reassured.\n",
    "    \n",
    "    • Integrate negation and uncertainty handling to separate worry from denial.\n",
    "    \n",
    "    • Handle class imbalance with weighted loss and calibrate model outputs.\n",
    "\n",
    "\n",
    "- What datasets would you use for training a **healthcare-specific** sentiment model?\n",
    "\n",
    "    Answer: \n",
    "    \n",
    "    • MedDialog for patient-doctor conversation sentiment and intent.\n",
    "    \n",
    "    • SMM4H health related sentiment corpora for extra training.\n",
    "    \n",
    "    • Build a small labeled set from real transcripts and add weak supervision."
   ]
  },
  {
   "cell_type": "markdown",
   "metadata": {},
   "source": [
    "## 6. SOAP Note Generation\n",
    "\n",
    "Generate structured clinical notes (Subjective, Objective, Assessment, Plan)"
   ]
  },
  {
   "cell_type": "code",
   "execution_count": 51,
   "metadata": {},
   "outputs": [
    {
     "name": "stdout",
     "output_type": "stream",
     "text": [
      "\n",
      "SOAP NOTE:\n",
      "\n",
      "{\n",
      "  \"Subjective\": {\n",
      "    \"Chief_Complaint\": \"some discomfort\",\n",
      "    \"History_of_Present_Illness\": \"Physician: I understand you were in a car accident last September. Physician: What did you feel immediately after the accident? Patient: Yes, I went to Moss Bank Accident and Emergency.\"\n",
      "  },\n",
      "  \"Objective\": {\n",
      "    \"Physical_Exam\": \"Let's go ahead and do a physical examination to check your mobility and any lingering pain.\",\n",
      "    \"Observations\": \"Patient appears in normal health\"\n",
      "  },\n",
      "  \"Assessment\": {\n",
      "    \"Diagnosis\": \"a whiplash injury\",\n",
      "    \"Severity\": \"Mild, improving\"\n",
      "  },\n",
      "  \"Plan\": {\n",
      "    \"Treatment\": \"painkillers, physiotherapy, ten sessions\",\n",
      "    \"Follow_Up\": \"Given your progress, I'd expect you to make a full recovery within six months of the accident.\"\n",
      "  }\n",
      "}\n"
     ]
    }
   ],
   "source": [
    "def generate_soap_note(transcript: str, entities: Dict) -> Dict:\n",
    "    \"\"\"Generate SOAP note from transcript\"\"\"\n",
    "    sentences = sent_tokenize(transcript)\n",
    "    \n",
    "    # SUBJECTIVE\n",
    "    chief_complaint = entities[\"Symptoms\"][0] if entities[\"Symptoms\"] else \"Not specified\"\n",
    "    \n",
    "    history_sentences = []\n",
    "    for sent in sentences:\n",
    "        if any(word in sent.lower() for word in [\"accident\", \"weeks\", \"September\"]):\n",
    "            history_sentences.append(sent)\n",
    "    history = \" \".join(history_sentences[:3]) if history_sentences else \"Not specified\"\n",
    "    \n",
    "    # OBJECTIVE\n",
    "    physical_exam = \"Not documented\"\n",
    "    for sent in sentences:\n",
    "        if \"range of motion\" in sent.lower() or \"examination\" in sent.lower():\n",
    "            physical_exam = sent\n",
    "            break\n",
    "    \n",
    "    # ASSESSMENT\n",
    "    diagnosis = entities[\"Diagnosis\"][0] if entities[\"Diagnosis\"] else \"Not specified\"\n",
    "    severity = \"Mild, improving\"\n",
    "    \n",
    "    # PLAN\n",
    "    treatment = \", \".join(entities[\"Treatment\"][:3]) if entities[\"Treatment\"] else \"Not specified\"\n",
    "    follow_up = \"Follow-up as needed\"\n",
    "    for sent in sentences:\n",
    "        if \"follow-up\" in sent.lower() or \"six months\" in sent.lower():\n",
    "            follow_up = sent\n",
    "            break\n",
    "    \n",
    "    soap_note = {\n",
    "        \"Subjective\": {\n",
    "            \"Chief_Complaint\": chief_complaint,\n",
    "            \"History_of_Present_Illness\": history\n",
    "        },\n",
    "        \"Objective\": {\n",
    "            \"Physical_Exam\": physical_exam,\n",
    "            \"Observations\": \"Patient appears in normal health\"\n",
    "        },\n",
    "        \"Assessment\": {\n",
    "            \"Diagnosis\": diagnosis,\n",
    "            \"Severity\": severity\n",
    "        },\n",
    "        \"Plan\": {\n",
    "            \"Treatment\": treatment,\n",
    "            \"Follow_Up\": follow_up\n",
    "        }\n",
    "    }\n",
    "    \n",
    "    return soap_note\n",
    "\n",
    "soap_note = generate_soap_note(transcript, entities)\n",
    "print(\"\\nSOAP NOTE:\\n\")\n",
    "print(json.dumps(soap_note, indent=2))"
   ]
  },
  {
   "cell_type": "markdown",
   "metadata": {},
   "source": [
    "**Questions:**\n",
    "\n",
    "- How would you train an NLP model to **map medical transcripts into SOAP format**?\n",
    "\n",
    "    Answer:\n",
    "\n",
    "    • Use two stages: extract clinical facts then feed to a sequence model to generate SOAP sections.\n",
    "    \n",
    "    • Constrain output format and favor direct text copying to avoid incorrect content.\n",
    "    \n",
    "    • Train on transcript to SOAP pairs and refine with curated examples.\n",
    "\n",
    "\n",
    "  \n",
    "\n",
    "\n",
    "\n",
    "- What **rule-based or deep-learning** techniques would improve the accuracy of SOAP note generation?\n",
    "\n",
    "    Answer:\n",
    "    \n",
    "    • Rule routing: patient speech→Subjective, exam lines→Objective, diagnosis/prognosis→Assessment, plan→Plan.\n",
    "    \n",
    "    • JSON schema checks plus span-copy to ensure factual, structured outputs.\n",
    "    \n",
    "    • Use long context models and consistency checks on symptoms, timeline, and plans.\n"
   ]
  },
  {
   "cell_type": "markdown",
   "metadata": {},
   "source": [
    "## 7. Visualization"
   ]
  },
  {
   "cell_type": "code",
   "execution_count": 52,
   "metadata": {},
   "outputs": [
    {
     "data": {
      "image/png": "[encoded data removed]",
      "text/plain": [
       "<Figure size 1500x1000 with 4 Axes>"
      ]
     },
     "metadata": {},
     "output_type": "display_data"
    },
    {
     "name": "stdout",
     "output_type": "stream",
     "text": [
      "\n",
      "Visualization saved\n"
     ]
    }
   ],
   "source": [
    "# Create visualizations\n",
    "fig, axes = plt.subplots(2, 2, figsize=(15, 10))\n",
    "\n",
    "# 1. Entity Distribution\n",
    "entity_counts = {k: len(v) for k, v in entities.items()}\n",
    "axes[0, 0].bar(entity_counts.keys(), entity_counts.values(), color='steelblue')\n",
    "axes[0, 0].set_title('Medical Entities Extracted', fontsize=14, fontweight='bold')\n",
    "axes[0, 0].set_ylabel('Count')\n",
    "axes[0, 0].tick_params(axis='x', rotation=45)\n",
    "\n",
    "# 2. Sentiment Distribution\n",
    "sentiment_counts = defaultdict(int)\n",
    "for result in sentiment_results:\n",
    "    sentiment_counts[result['Sentiment']] += 1\n",
    "axes[0, 1].pie(sentiment_counts.values(), labels=sentiment_counts.keys(), \n",
    "               autopct='%1.1f%%', startangle=90, colors=['#ff9999', '#66b3ff', '#99ff99'])\n",
    "axes[0, 1].set_title('Patient Sentiment Distribution', fontsize=14, fontweight='bold')\n",
    "\n",
    "# 3. Top Keywords\n",
    "axes[1, 0].barh(keywords[:7], range(7, 0, -1), color='coral')\n",
    "axes[1, 0].set_title('Top Medical Keywords', fontsize=14, fontweight='bold')\n",
    "axes[1, 0].set_xlabel('Relevance Score')\n",
    "axes[1, 0].invert_yaxis()\n",
    "\n",
    "# 4. Treatment Timeline \n",
    "timeline_data = ['Accident', 'Emergency Visit', 'Physiotherapy\\n(10 sessions)', 'Current Status']\n",
    "timeline_dates = [0, 1, 2, 6]\n",
    "axes[1, 1].plot(timeline_dates, [1]*4, 'o-', markersize=15, linewidth=2, color='green')\n",
    "for i, (date, event) in enumerate(zip(timeline_dates, timeline_data)):\n",
    "    axes[1, 1].text(date, 1.05, event, ha='center', fontsize=9)\n",
    "axes[1, 1].set_title('Treatment Timeline', fontsize=14, fontweight='bold')\n",
    "axes[1, 1].set_ylim(0.9, 1.2)\n",
    "axes[1, 1].set_xlabel('Months')\n",
    "axes[1, 1].set_yticks([])\n",
    "axes[1, 1].grid(True, alpha=0.3)\n",
    "\n",
    "plt.tight_layout()\n",
    "plt.savefig('C:/Users/mahia/OneDrive/Documents/medical_nlp_visualization.png', dpi=300, bbox_inches='tight')\n",
    "plt.show()\n",
    "\n",
    "print(\"\\nVisualization saved\")"
   ]
  },
  {
   "cell_type": "markdown",
   "metadata": {},
   "source": [
    "## 8. Save All Results"
   ]
  },
  {
   "cell_type": "code",
   "execution_count": 53,
   "metadata": {},
   "outputs": [
    {
     "name": "stdout",
     "output_type": "stream",
     "text": [
      "\n",
      "All results saved to: complete_medical_analysis.json\n",
      "Analysis Complete\n"
     ]
    }
   ],
   "source": [
    "# Compile all results\n",
    "complete_results = {\n",
    "    \"patient_name\": summary[\"Patient_Name\"],\n",
    "    \"medical_entities\": entities,\n",
    "    \"keywords\": keywords,\n",
    "    \"structured_summary\": summary,\n",
    "    \"sentiment_analysis\": [\n",
    "        {\"text\": dialogue, **analyze_sentiment(dialogue)} \n",
    "        for dialogue in patient_dialogues\n",
    "    ],\n",
    "    \"intent_detection\": [\n",
    "        {\"text\": dialogue, **detect_intent(dialogue)} \n",
    "        for dialogue in patient_dialogues\n",
    "    ],\n",
    "    \"soap_note\": soap_note\n",
    "}\n",
    "\n",
    "# Save to JSON\n",
    "with open('C:/Users/mahia/OneDrive/Documents/complete_medical_analysis.json', 'w') as f:\n",
    "    json.dump(complete_results, f, indent=2)\n",
    "\n",
    "print(\"\\nAll results saved to: complete_medical_analysis.json\")\n",
    "print(\"Analysis Complete\")"
   ]
  },
  {
   "cell_type": "code",
   "execution_count": null,
   "metadata": {},
   "outputs": [],
   "source": []
  },
  {
   "cell_type": "code",
   "execution_count": null,
   "metadata": {},
   "outputs": [],
   "source": []
  }
 ],
 "metadata": {
  "kernelspec": {
   "display_name": "Python 3 (ipykernel)",
   "language": "python",
   "name": "python3"
  },
  "language_info": {
   "codemirror_mode": {
    "name": "ipython",
    "version": 3
   },
   "file_extension": ".py",
   "mimetype": "text/x-python",
   "name": "python",
   "nbconvert_exporter": "python",
   "pygments_lexer": "ipython3",
   "version": "3.12.6"
  }
 },
 "nbformat": 4,
 "nbformat_minor": 4
}
